{
  "nbformat": 4,
  "nbformat_minor": 0,
  "metadata": {
    "colab": {
      "name": "Welcome To Colaboratory",
      "provenance": [],
      "collapsed_sections": [],
      "toc_visible": true,
      "include_colab_link": true
    },
    "kernelspec": {
      "display_name": "Python 3",
      "name": "python3"
    }
  },
  "cells": [
    {
      "cell_type": "markdown",
      "metadata": {
        "id": "view-in-github",
        "colab_type": "text"
      },
      "source": [
        "<a href=\"https://colab.research.google.com/github/bhattronak/Google_Colaboratory_Work/blob/main/Course1_Youtube_Data%20Science%20Tutorial%20%7C%20Data%20Science%20for%20Beginners%20%7C%20Python%20for%20Data%20Science%20%7C%2011%20Hours%20Full%20Course.ipynb\" target=\"_parent\"><img src=\"https://colab.research.google.com/assets/colab-badge.svg\" alt=\"Open In Colab\"/></a>"
      ]
    },
    {
      "cell_type": "markdown",
      "metadata": {
        "id": "_6OqIct6rdEJ"
      },
      "source": [
        "#  #SOP"
      ]
    },
    {
      "cell_type": "markdown",
      "metadata": {
        "id": "DJtzj6-LlQHz"
      },
      "source": [
        "import investpy\n",
        "import matplotlib.pyplot as plot\n",
        "import numpy\n",
        "from keras.models import Sequential\n",
        "from keras.layers import Dense, LSTM\n",
        "from sklearn.preprocessing import MinMaxScaler\n",
        "\n",
        "\n",
        "# Get the required dataFrame from investing.com\n",
        "# via investpy\n",
        "df = investpy.get_stock_historical_data(stock=\"tisc\", country=\"india\", from_date=\"01/01/2010\", to_date=\"30/12/2020\", as_json=False, order='ascending')\n",
        "# Detele non-required data from it\n",
        "df.drop(columns=['Open', 'High', 'Low', 'Volume', 'Currency'], inplace=True)\n",
        "\n",
        "\n",
        "# Plot the data frame\n",
        "df.plot(kind='line')\n",
        "plot.title('TATA Steel Ltd. stock')\n",
        "plot.xlabel('Dates')\n",
        "plot.ylabel('Stock prices (Closing)')\n",
        "plot.show()\n",
        "\n",
        "\n",
        "# Helper variables\n",
        "dataSet = df.values\n",
        "# Training data is from from 2010 to 2019\n",
        "# There 366 days in year 2020\n",
        "trainingDataLen = len(dataSet) - 366\n",
        "\n",
        "\n",
        "# Scaling the data\n",
        "scaler = MinMaxScaler(feature_range=(0,1))\n",
        "scaledData = scaler.fit_transform(dataSet)\n",
        "\n",
        "\n",
        "# Preparing for training the data\n",
        "trainingData = scaledData[0:int(trainingDataLen), :]\n",
        "xTrain, yTrain = [], []\n",
        "\n",
        "\n",
        "for i in range(60, len(trainingData)):\n",
        "    xTrain.append(trainingData[i-60:i, 0])\n",
        "    yTrain.append(trainingData[i, 0])\n",
        "\n",
        "\n",
        "# Convert xTrain and yTrain to proper format\n",
        "xTrain, yTrain = numpy.array(xTrain), numpy.array(yTrain)\n",
        "\n",
        "\n",
        "# Reshaping is required to feed the data to\n",
        "# the model\n",
        "xTrain = numpy.reshape(xTrain, (xTrain.shape[0], xTrain.shape[1] , 1))\n",
        "\n",
        "\n",
        "# Prepare the lstm model\n",
        "lstm = Sequential()\n",
        "lstm.add(LSTM(100, return_sequences=True, input_shape=(xTrain.shape[1], 1)))\n",
        "lstm.add(LSTM(100))\n",
        "lstm.add(Dense(1))\n",
        "\n",
        "\n",
        "# Compile the model\n",
        "lstm.compile(loss='mean_squared_error')\n",
        "\n",
        "\n",
        "# Train the model by feeding it data\n",
        "lstm.fit(xTrain, yTrain, batch_size=1, epochs=1)\n",
        "\n",
        "\n",
        "# Create the testing dataset\n"
      ]
    }
  ]
}