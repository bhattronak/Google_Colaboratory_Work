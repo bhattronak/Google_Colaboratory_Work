{
  "nbformat": 4,
  "nbformat_minor": 0,
  "metadata": {
    "colab": {
      "name": "Welcome To Colaboratory",
      "provenance": [],
      "collapsed_sections": [],
      "toc_visible": true,
      "include_colab_link": true
    },
    "kernelspec": {
      "display_name": "Python 3",
      "name": "python3"
    }
  },
  "cells": [
    {
      "cell_type": "markdown",
      "metadata": {
        "id": "view-in-github",
        "colab_type": "text"
      },
      "source": [
        "<a href=\"https://colab.research.google.com/github/bhattronak/Google_Colaboratory_Work/blob/main/Course1_Youtube_Data%20Science%20Tutorial%20%7C%20Data%20Science%20for%20Beginners%20%7C%20Python%20for%20Data%20Science%20%7C%2011%20Hours%20Full%20Course.ipynb\" target=\"_parent\"><img src=\"https://colab.research.google.com/assets/colab-badge.svg\" alt=\"Open In Colab\"/></a>"
      ]
    },
    {
      "cell_type": "markdown",
      "metadata": {
        "id": "_6OqIct6rdEJ"
      },
      "source": [
        "#  #SOP"
      ]
    },
    {
      "cell_type": "markdown",
      "metadata": {
        "id": "DJtzj6-LlQHz"
      },
      "source": [
        "1.\tRehabilitation- Punravartan\n",
        "2.\tPrison-jel\n",
        "3.\tOffend- aparadh, khotu lagadvu\n",
        "4.\tConsequently, (linker) – Parinamo(as a result)\n",
        "5.\tTackle - nikal\n",
        "6.\tNecessity – jaruriyat\n",
        "7.\tFor instance – as an example\n",
        "8.\tDetrimental – Hanikarak\n",
        "9.\tProspective – sambhavit\n",
        "10.\tSocIEy(society) – samaj\n",
        "11.\tPioneer – agresar\n",
        "12.\tCompetition\n",
        "13.\tOverwhelming – jabarjast\n",
        "14.\tRecruit \n",
        "15.\tManufacturer \n",
        "16.\tHereditary - varsagat\n",
        "17.\tAdvantageous \n",
        "18.\tDetriment - hanikarak\n",
        "19.\tEvident – spasht che\n",
        "20.\tThus-આમ\n",
        "21.\tamateur - કલાપ્રેમી\n",
        "22.\tcontroversy \n",
        "23.\tdeleterious- hanikarak\n",
        "24.\tlfirmly- nischit pane\n",
        "25.\tera- Yug\n",
        "26.\thave an edge over= used in essay (x overpower y, x have an edge over y)\n",
        "\n",
        "\n",
        "\n"
      ]
    },
    {
      "cell_type": "code",
      "metadata": {
        "id": "_xT5NBjpmkD9"
      },
      "source": [
        ""
      ],
      "execution_count": null,
      "outputs": []
    }
  ]
}