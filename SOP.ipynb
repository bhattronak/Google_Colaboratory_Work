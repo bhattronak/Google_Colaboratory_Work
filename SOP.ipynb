{
  "nbformat": 4,
  "nbformat_minor": 0,
  "metadata": {
    "colab": {
      "name": "Welcome To Colaboratory",
      "provenance": [],
      "collapsed_sections": [],
      "toc_visible": true,
      "include_colab_link": true
    },
    "kernelspec": {
      "display_name": "Python 3",
      "name": "python3"
    }
  },
  "cells": [
    {
      "cell_type": "markdown",
      "metadata": {
        "id": "view-in-github",
        "colab_type": "text"
      },
      "source": [
        "<a href=\"https://colab.research.google.com/github/bhattronak/Google_Colaboratory_Work/blob/main/SOP.ipynb\" target=\"_parent\"><img src=\"https://colab.research.google.com/assets/colab-badge.svg\" alt=\"Open In Colab\"/></a>"
      ]
    },
    {
      "cell_type": "markdown",
      "metadata": {
        "id": "_6OqIct6rdEJ"
      },
      "source": [
        "#  #SOP"
      ]
    },
    {
      "cell_type": "markdown",
      "metadata": {
        "id": "U125r81P0YmE"
      },
      "source": [
        "Subject: Application for Canada Student Visa \n",
        "Name: Ronak Dharmendra Bhatt \n",
        "Institute: St. Clair College, Windsor, Canada. \n",
        "Program: Data Analytics for Business \n",
        "IELTS: L-6, R-6, W-6, S-7.5\n",
        "\n",
        "Respected Visa Officer,\n",
        "I hope you are in good health condition. I can’t imagine our life without mathematics in today’s world. I have always been interested in mathematics since my childhood. I love numbers. In every stage of my student life I learnt mathematics & scored good marks. Numbers have capability to represent anything into the universe. Irrespective of business type, past data related to the business can speak every little detail about the business. Moreover, those previous data can help to improve future business with help of data analysis of those data. Beauty of data analytics is that it can apply anywhere provided that data are being generated in that business, it can be any production business or service sector. Which does means knowledge of this course can be useful to anyone. To add to it, if one has knowledge of one particular field or business and if he learn this course then one can do even better.\n",
        "\n",
        "My passion towards maths, science & computer was the reason to opt Maths, Physics, Chemistry and computer as major subjects in 12th standard (HSC). I secured 92.06 Science percentile rank with 83% in High school. My inclination towards maths and physics directed me to choose Mechanical Engineering for bachelor. During this journey I have studied subjects such as Mathematics 1, Programming in C, Mathematics 2, Advanced C Programming, Mathematics-3, Numerical Methods & Computer Programming, Industrial Management & Economics, Control system, Optimization Techniques, Finite Element Method. These subjects taught me basics of data analysis and motivated me to pursue my career in this field. With help of these subject I learnt about MATLAB, Python, C language which are believed as a pillar of programming. Moreover, I also learnt about various optimization methods, various numerical algorithms and how to implement those things into programming language. At the end of the college life, these subjects had ignited fire for data analytics into my soul no matter wherever I go in future. I have earned B.Tech degree with 8.04 CPI in May 2019 from Dharmsinh Desai University which is one of the top universities of Gujarat. During college life, I have taken training of Programmable Logic Control (PLC) at Bosch Rexorth Automation Excellence Centre at my university. This course helped me to be more open about coding. It taught me how programming can be linked to automation. I learned basics of PLC and how to write and run program in PLC. Apart from study, I was very good sport player of our school. I was team member of Table tennis, Badminton & Cricket. I was also captain of National Cadet Corps (NCC) group of my school. I had to handle crew of 50 students which helped me to evolve my leadership skill. I got gratitude towards my country India. I have also taken pledge to serve my country for life time during those days. Thus, no matter where I go, at the end I am Indian and I will serve for my country only. \n",
        "\n",
        "After completion of bachelors I got placed in one of the best companies in India ‘Reliance Industries Limited(RIL-HMD)’,which is located near Surat. Its producing 22 different chemicals & there is separate plant for each. I joined it at 15 july,2019 as Graduate Engineer Trainee(GET) & then after 1 year of training I promoted as a maintenance manager . I have explore myself in industrial world during this time. I came to know what can I do in future. After looking for all available options & departments I decided to build my career in ‘Smart Manufacturing Team’. This team is more intended towards analytics part in which I always wanted to be. I did several projects with them from which I learn a lot. One of them was to detect yellowish portion in product PBR(Poly Butadiene Rubber). To detect yellowish portion we made a device which works with help of sensor. Here, I decided to pursue higher study as I need more knowledge of this area. Moreover, during few projects, I had to categorise around 1000 drawings of various equipment. It was very tedious job but if I had knowledge of data analytics then it was just a matter of few minutes. In addition, excel is needed in every job & this course will help me to learn excel in depth. Thus, This course will help me to accelerate my career.  Data analytics is penetrating in almost every available filed. Hence, I believe that it’s mandatory skill to live in 21st century. We are living in Industry 4.0 era where we are moving towards more advance version of process. IoT, Smart manufacturing, AI , Machine Learning , Cloud data will lead the future. Moreover, according to World Economic Forum by 2022,85% of companies will have adopted big data & analytics technology. 11.5 Million jobs will be created by 2026 according to U.S. Bureau of Labour Statistics. As a result, demand of data analytics would touch the sky.\n",
        "   \n",
        "To be good data analyst one need to have deep knowledge of mathematics and statistics, programming, soft skills to deliver interpretation. I’m passionate for each of those skills. In order to prove that I am highly motivated & passionate about data analytics, I have undergone various training & courses. To explore more I did few courses and earned certificates. To begin with, First course I did was Programming for everybody(Getting started with python). Here, I learnt very basic of python. I also did course of ‘Machine Learning’ by Stanford University. I learnt various regression such as linear, logistic, multiple linear regression & about Supervise, Unsupervised learning and reinforcement learning in this course. Then I did course called ‘Python A-Z, Python For Data Science with Real Exercise’. This course was conducted by Kirill Eremenko who is great data science entrepreneur, after completion of all of this course I really wanted to learn more about things I learnt in this course. I learn few fantastic function available in python such as tuples, array, Seaborn and Numpy & its visualization, Jointplots, Histograms, KDE plots, Violinplot, Boxplot, facetgrid, Coordinate and Diagonal. I was in love with data analytics after completion of these courses & knowing these things. While I was learning these things it was covid 19 pick time of 1st wave, I have plotted few charts for my own city Vadodara to understand behaviour of virus. It was my first real life project. I did two months internship of data science with Tutedude(Jan-March 2021). I believe that knowledge will exponentially increases if we share it. In order to complete this internship I had to teach whatever I know about data science to others. Since that time I knew things which I have explained earlier & I deliver it. It was great experience. I have uploaded all my certificates & codes of above mentioned things as a proof on below link of LinkedIn & GitHub respectively. \t\n",
        "\n",
        "Firstly, Canada is believed as education hub. Tuition fees for my course is also affordable as compared to UK or US. Moreover, Canadian education system intended towards more practical knowledge than theoretical which attract me even more. Finding one specific college in the ocean of colleges was really challenging task for me. My most prior criteria to select course was course structure & subjects. If we look at subjects of St. Clair college then starting with very basic Introduction to Data Analytics, Introduction to Artificial Intelligence  to Advanced Statistics for Data Analytics, Machine Learning 1 & 2 , Healthcare Analysis, Data Visualization & Reporting, Financial Analytics, Supply Chain Analytics, Marketing Analytics. Which covers almost all the possible domain of Data Analytics. Secondly, I have also taken reviews of past students of this college, I am hardly satisfied with their opinion. I have also talked with prof. Thirdly, if we look at slogan of college then it’s ‘Start Here and Go Anywhere.’ Which explain all about college in just one sentence. Knowledge is unbounded if one is eager to learn. I also talked to prof. Mark Cassar via LinkedIn who teaches Machine Learning for this course. I love to be his student. I asked about this course & he inspired me a lot to move ahead. Hence, I decided to pursue this course.\n",
        "\n",
        "I will return to my home country as I will get promotion in my existing job in Smart Manufacturing Team. Furthermore, more doors of opportunity will open for me once I combined my overall knowledge after completion of this course. Once I complete this course I will have above mentioned skills which help me to work with India’s best company for data science such as IBM, Wipro, Oracle, Amazon, Flipkart. In future I will more focused on practice things & to become a data scientist. As I have great analytical mind, I would like to invent new algorithms which can make life easier. At the end target is to make human life easy & help mankind. I can do it with help of today’s technology as my mind perform well in that domain but I have to learn them first. This course is first step towards this beautiful journey. \n",
        " \n",
        "I am financially very stable as I have earned money for my 1st year tuition fees & GIC till now. Not only that but also my father is working at Reliance Ind. Ltd.(VMD) .We have enough savings in order to pay next year tuition fees as well as living expenses. Thus, I can focus on my study without any financial burdens. My mother is housewife & my younger sister is pursuing Bsc. Mathematics from MS University, Vadodara. \n",
        "\n",
        " In the end, I would like to thank you to review my application. I am looking forward for your positive response as it will significantly impact my future. For any queries kindly contact me on below details. \n",
        "\n",
        "Thanks & Regards,\n",
        "Ronak Bhatt,\n",
        "+91-9998006583,\n",
        "bhattronak14@gmail.com ,\n",
        "LinkedIn - https://www.linkedin.com/in/ronak-bhatt-397399122/ ,\n",
        "GitHub - https://github.com/bhattronak .\n",
        "\n",
        "\n",
        "\n",
        "\n",
        "\n",
        "\n",
        "\n",
        "\n",
        "\n",
        "\n",
        "\n",
        "\n",
        "\n",
        "\n",
        "\n",
        "\n",
        "\n",
        "\n",
        "\n",
        "\n",
        "\n",
        "\n",
        "\n",
        "\n",
        "\n",
        "\n"
      ]
    },
    {
      "cell_type": "markdown",
      "metadata": {
        "id": "DJtzj6-LlQHz"
      },
      "source": [
        "\n"
      ]
    },
    {
      "cell_type": "code",
      "metadata": {
        "id": "_xT5NBjpmkD9"
      },
      "source": [
        ""
      ],
      "execution_count": null,
      "outputs": []
    }
  ]
}