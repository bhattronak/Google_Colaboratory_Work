{
  "nbformat": 4,
  "nbformat_minor": 0,
  "metadata": {
    "colab": {
      "name": "Welcome To Colaboratory",
      "provenance": [],
      "collapsed_sections": [],
      "toc_visible": true,
      "include_colab_link": true
    },
    "kernelspec": {
      "display_name": "Python 3",
      "name": "python3"
    }
  },
  "cells": [
    {
      "cell_type": "markdown",
      "metadata": {
        "id": "view-in-github",
        "colab_type": "text"
      },
      "source": [
        "<a href=\"https://colab.research.google.com/github/bhattronak/Google_Colaboratory_Work/blob/main/SOP.ipynb\" target=\"_parent\"><img src=\"https://colab.research.google.com/assets/colab-badge.svg\" alt=\"Open In Colab\"/></a>"
      ]
    },
    {
      "cell_type": "markdown",
      "metadata": {
        "id": "_6OqIct6rdEJ"
      },
      "source": [
        "#  #SOP"
      ]
    },
    {
      "cell_type": "markdown",
      "metadata": {
        "id": "U125r81P0YmE"
      },
      "source": [
        "To,\n",
        "\n",
        "The Canadian High Commission, India. \n",
        "\n",
        "Subject: Application for Canada Student Visa \n",
        "\n",
        "Name: Ronak Dharmendra Bhatt \n",
        "Institute: St. Clair College, Windsor, Canada. \n",
        "Program: Data Analytics for Business \n",
        "\n",
        "Respected Visa Officer,\n",
        "I hope you are in good health condition. I would like to put forward my candidacy with help of this SOP for student visa permit in Canada.\n",
        "\n",
        "I can’t imagine our life without mathematics in today’s world. I have always been interested in mathematics since my childhood. I love numbers. In every stage of my student life I learnt mathematics & scored good marks. Numbers have capability to represent anything into the universe. Irrespective of business type, past data related to the business can speak every little detail about the business. Moreover, those previous data can help to improve future business with help of data analysis of those data. Beauty of data analytics is that it can apply anywhere provided that data are being generated in that business, it can be any production business or service sector. Which does means knowledge of this course can be useful to anyone. To add to it, if one has knowledge of one particular field or business and if he learn this course then one can do even better.\n",
        "\n",
        "\n",
        " ACADEMICS\n",
        "\n",
        "My passion towards maths, science & computer was the reason to opt Maths, Physics, Chemistry and computer as major subjects in 12th standard (HSC). I secured 92.06 Science percentile rank with 83% in High school. My inclination towards maths and physics directed me to choose Mechanical Engineering for bachelor. During this journey I have studied subjects such as Mathematics 1, Programming in C, Mathematics 2, Advanced C Programming, Mathematics-3, Numerical Methods & Computer Programming, Industrial Management & Economics, Control system, Optimization Techniques, Finite Element Method. These subjects taught me basics of data analysis and motivated me to pursue my career in this field. With help of these subject I learnt about MATLAB, Python, C language which are believed as a pillar of programming. Moreover, I also learnt about various optimization methods, various numerical algorithms and how to implement those things into programming language. I came to know that how physical problems can be converted into language of mathematics in the subject of Control System. At the end of the college life, these subjects had ignited fire for data analytics into my soul no matter wherever I go in future. I have earned B.Tech degree with 8.04 CPI in May 2019 from Dharmsinh Desai University which is one of the top universities of Gujarat. During college life, I have taken training of Programmable Logic Control (PLC) at Bosch Rexorth Automation Excellence Centre at my university during August, 2017. This course helped me to be more open about coding. It taught me how programming can be linked to automation. I learned basics of PLC and how to write and run programme in PLC. Apart from study, I was very good sport player of our school. I was team member of Table tennis, Badminton & Cricket. I was also caption of National Cadet Corps (NCC) group of my school. I had to handle crew of 50 students which helped me to evolve my leadership skill. I came to know that how our soldiers are trained, what they scarify for us. I got gratitude towards my country India. I have also taken pledge to serve my country for life time during those days. Thus, no matter where I go, at the end I am Indian and I will serve for my country only. \n",
        "\n",
        "IELTS\n",
        "\n",
        "I have given IELTS on 19th June, 2021 & have secured an overall 6.5 band with individual score in Listening 6, Reading 6, Writing 6, and Speaking 7.5 which satisfy the requirement of college as well as Visa application.\n",
        "\n",
        "WORK EXPERIENCE\n",
        "\n",
        "जब तू हस्ती है तब तुझे रूलता हू,\n",
        "\n",
        "अगर सचमे तू रो पड़े तो बिखर जाता हू,\n",
        "\n",
        "जब न थी दुनिया की समज तबसे है तू,\n",
        "\n",
        "मेरे बचपन का साया है तू,\n",
        "\n",
        "माँ की परछाई  है तू,\n",
        "\n",
        "तुझसे दूर होके मानो जैसे तूफ़ान छाया,\n",
        "\n",
        "करीब रहके तुझे इतना जो सताया,\n",
        "\n",
        "\n",
        "तेरे बस होने से मानो सब सुकून हैं,\n",
        "\n",
        "खुली हवा मैं आजाद पंछी हो तुम,\n",
        "\n",
        "क्यूकी पापा की परी हो तुम,\n",
        "\n",
        "जी भरके उड़ो (शादी के पहले!😬),\n",
        "\n",
        "खुश रहो!\n",
        "\n",
        "\n",
        "\n"
      ]
    },
    {
      "cell_type": "markdown",
      "metadata": {
        "id": "DJtzj6-LlQHz"
      },
      "source": [
        "\n"
      ]
    },
    {
      "cell_type": "code",
      "metadata": {
        "id": "_xT5NBjpmkD9"
      },
      "source": [
        ""
      ],
      "execution_count": null,
      "outputs": []
    }
  ]
}