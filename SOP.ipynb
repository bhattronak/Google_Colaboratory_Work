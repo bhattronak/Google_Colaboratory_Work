{
  "nbformat": 4,
  "nbformat_minor": 0,
  "metadata": {
    "colab": {
      "name": "Welcome To Colaboratory",
      "provenance": [],
      "collapsed_sections": [],
      "include_colab_link": true
    },
    "kernelspec": {
      "display_name": "Python 3",
      "name": "python3"
    }
  },
  "cells": [
    {
      "cell_type": "markdown",
      "metadata": {
        "id": "view-in-github",
        "colab_type": "text"
      },
      "source": [
        "<a href=\"https://colab.research.google.com/github/bhattronak/Google_Colaboratory_Work/blob/main/SOP.ipynb\" target=\"_parent\"><img src=\"https://colab.research.google.com/assets/colab-badge.svg\" alt=\"Open In Colab\"/></a>"
      ]
    },
    {
      "cell_type": "markdown",
      "metadata": {
        "id": "_6OqIct6rdEJ"
      },
      "source": [
        "#  #SOP"
      ]
    },
    {
      "cell_type": "markdown",
      "metadata": {
        "id": "U125r81P0YmE"
      },
      "source": [
        "To, \n",
        "The Canadian High Commission, India. \n",
        " \n",
        "Subject: Application for Canada Student Visa \n",
        " \n",
        "Name: Ronak Dharmendra Bhatt \n",
        "Institute: St. Clair College, Windsor, Canada. \n",
        "Program: Data Analytics for business \n",
        " \n",
        "Respected Visa Officer,\n",
        "I hope you are in good health condition. I would like to put forward my candidacy with help of this SOP for student visa permit in Canada.\n",
        " \n",
        "I can’t imagine our life without mathematics in today’s world. I have always been interested in mathematics since my childhood. I love numbers. Numbers have capability to represent anything into the universe. Irrespective of business type, past data related to the business can speak every little detail about the business. Moreover, those previous data can help to improve future business if we know how to play around with those data and extract useful conclusion. Beauty of data analytics is that it can apply anywhere provided that data are being generated in that business, It can be any production business or service sector. Which does means knowledge of this course can be useful to anyone. To add to it, if one has knowledge of one particular field or business and if he learn this course then one can do even better.\n",
        " \n",
        " \n",
        " ACADEMICS\n",
        " \n",
        "NCC"
      ]
    },
    {
      "cell_type": "markdown",
      "metadata": {
        "id": "DJtzj6-LlQHz"
      },
      "source": [
        "\n"
      ]
    },
    {
      "cell_type": "code",
      "metadata": {
        "id": "_xT5NBjpmkD9"
      },
      "source": [
        ""
      ],
      "execution_count": null,
      "outputs": []
    }
  ]
}