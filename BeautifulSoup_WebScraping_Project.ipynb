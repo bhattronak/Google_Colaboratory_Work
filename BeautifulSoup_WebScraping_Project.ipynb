{
  "nbformat": 4,
  "nbformat_minor": 0,
  "metadata": {
    "colab": {
      "provenance": [],
      "collapsed_sections": [],
      "name": "BeautifulSoup_WebScraping_Project.ipynb",
      "authorship_tag": "ABX9TyPFEMb2nDWs0SweqAXGf/5q",
      "include_colab_link": true
    },
    "kernelspec": {
      "name": "python3",
      "display_name": "Python 3"
    },
    "language_info": {
      "name": "python"
    }
  },
  "cells": [
    {
      "cell_type": "markdown",
      "metadata": {
        "id": "view-in-github",
        "colab_type": "text"
      },
      "source": [
        "<a href=\"https://colab.research.google.com/github/bhattronak/Google_Colaboratory_Work/blob/main/BeautifulSoup_WebScraping_Project.ipynb\" target=\"_parent\"><img src=\"https://colab.research.google.com/assets/colab-badge.svg\" alt=\"Open In Colab\"/></a>"
      ]
    },
    {
      "cell_type": "code",
      "execution_count": 1,
      "metadata": {
        "colab": {
          "base_uri": "https://localhost:8080/"
        },
        "id": "pnThsleTsDNT",
        "outputId": "288314cc-cb94-487d-a1af-c6ab2c422e1a"
      },
      "outputs": [
        {
          "output_type": "stream",
          "name": "stdout",
          "text": [
            "Looking in indexes: https://pypi.org/simple, https://us-python.pkg.dev/colab-wheels/public/simple/\n",
            "Requirement already satisfied: bs4 in /usr/local/lib/python3.7/dist-packages (0.0.1)\n",
            "Requirement already satisfied: beautifulsoup4 in /usr/local/lib/python3.7/dist-packages (from bs4) (4.6.3)\n"
          ]
        }
      ],
      "source": [
        "!pip install bs4"
      ]
    },
    {
      "cell_type": "code",
      "source": [
        "!pip install openpyxl"
      ],
      "metadata": {
        "colab": {
          "base_uri": "https://localhost:8080/"
        },
        "id": "AJrOYXHuHNW1",
        "outputId": "00242d81-f4b1-4705-d2a8-b534f16cdf19"
      },
      "execution_count": 2,
      "outputs": [
        {
          "output_type": "stream",
          "name": "stdout",
          "text": [
            "Looking in indexes: https://pypi.org/simple, https://us-python.pkg.dev/colab-wheels/public/simple/\n",
            "Requirement already satisfied: openpyxl in /usr/local/lib/python3.7/dist-packages (3.0.10)\n",
            "Requirement already satisfied: et-xmlfile in /usr/local/lib/python3.7/dist-packages (from openpyxl) (1.1.0)\n"
          ]
        }
      ]
    },
    {
      "cell_type": "code",
      "source": [
        "# Basic of html is required to do web scraping\n",
        "#td(starting) (text for td)............attributes such as class='abc',style='xyz'....../td\n",
        "#(means completion of td)\n",
        "from bs4 import BeautifulSoup\n",
        "import requests\n",
        "import openpyxl"
      ],
      "metadata": {
        "id": "ALCxBmUOsJUW"
      },
      "execution_count": 3,
      "outputs": []
    },
    {
      "cell_type": "code",
      "source": [
        "excel = openpyxl.Workbook()\n",
        "print(excel.sheetnames)\n",
        "sheet=excel.active\n",
        "sheet.title='IMDB Analysis'\n",
        "print(excel.sheetnames)\n",
        "sheet.append(['categories','winnerlist','nominee'])"
      ],
      "metadata": {
        "colab": {
          "base_uri": "https://localhost:8080/"
        },
        "id": "cazyFlaFHpX5",
        "outputId": "140a722b-d86b-4fe5-9f14-933b28a285e1"
      },
      "execution_count": 4,
      "outputs": [
        {
          "output_type": "stream",
          "name": "stdout",
          "text": [
            "['Sheet']\n",
            "['IMDB Analysis']\n"
          ]
        }
      ]
    },
    {
      "cell_type": "code",
      "source": [
        "# for i in range(100,110):\n",
        "#   c1=sheet.cell(row = i+1, column = 555)\n",
        "#   c1.value = 'hi'"
      ],
      "metadata": {
        "id": "2OwrYZ7sPKlR"
      },
      "execution_count": 5,
      "outputs": []
    },
    {
      "cell_type": "code",
      "source": [
        "try:# because if url is invalid then it supposed to give error which will be return from Exception\n",
        "  source = requests.get('https://en.wikipedia.org/wiki/63rd_Golden_Globe_Awards')\n",
        "  #print(type(source))\n",
        "  source.raise_for_status()\n",
        "  soup = BeautifulSoup(source.text,'html.parser') # Type of variable soup is BeautifulSoup # It's text of html text of given website.\n",
        "\n",
        "  table=soup.find('table',class_=\"wikitable\",style=\"width=100%\") # We wrote it beause of \"table class=\"wikitable\" style=\"width=100%\"\n",
        "  # find will find perticular x ....... /x that x from whole html text\n",
        "  #print(table) # table is for this table in \n",
        "  #print(type(source))\n",
        "except Exception as e:\n",
        "  print(e)"
      ],
      "metadata": {
        "id": "nxpWo8O0siU7"
      },
      "execution_count": 16,
      "outputs": []
    },
    {
      "cell_type": "code",
      "source": [
        "type(table)"
      ],
      "metadata": {
        "colab": {
          "base_uri": "https://localhost:8080/"
        },
        "id": "1opLfSmIzQxV",
        "outputId": "59104222-50a9-4bdb-9688-5ac7ef450f8d"
      },
      "execution_count": 7,
      "outputs": [
        {
          "output_type": "execute_result",
          "data": {
            "text/plain": [
              "bs4.element.Tag"
            ]
          },
          "metadata": {},
          "execution_count": 7
        }
      ]
    },
    {
      "cell_type": "code",
      "source": [
        "type(table.find_all('tr'))"
      ],
      "metadata": {
        "colab": {
          "base_uri": "https://localhost:8080/"
        },
        "id": "wJdfDIvhsu1g",
        "outputId": "7f2305f7-6e8f-4614-fcee-edce51da4672"
      },
      "execution_count": 8,
      "outputs": [
        {
          "output_type": "execute_result",
          "data": {
            "text/plain": [
              "bs4.element.ResultSet"
            ]
          },
          "metadata": {},
          "execution_count": 8
        }
      ]
    },
    {
      "cell_type": "code",
      "source": [
        "fulllist = table.find_all('tr') # find_all will return a list of all element starting with 'tr'\n",
        "fulllist1 = table.find_all('th')\n",
        "fulllist1[4].text"
      ],
      "metadata": {
        "colab": {
          "base_uri": "https://localhost:8080/",
          "height": 35
        },
        "id": "Tli03LLjyZZT",
        "outputId": "62aafa93-aef4-4046-c5c8-2ae1a37446df"
      },
      "execution_count": 9,
      "outputs": [
        {
          "output_type": "execute_result",
          "data": {
            "text/plain": [
              "'Actor\\n'"
            ],
            "application/vnd.google.colaboratory.intrinsic+json": {
              "type": "string"
            }
          },
          "metadata": {},
          "execution_count": 9
        }
      ]
    },
    {
      "cell_type": "code",
      "source": [
        "# However above fulllist will give list of all 'tr' which is not that usefull beause everything in table starts with tr, we have to be\n",
        "# more specific.\n",
        "# As we can see all categories are under 'th', hence let's male it's list\n",
        "categories=[]\n",
        "i=2\n",
        "listofcategoty = table.find_all('th') \n",
        "for category in listofcategoty:\n",
        "  categories.append(category.text.split('\\n')[0]) # text will return text of that <th... text ..</th>\n",
        "  sheet.cell(row = i, column = 1).value = category.text.split('\\n')[0]\n",
        "  i=i+1\n",
        "  #c1.value = category.text.split('\\n')[0]\n",
        "  #sheet.append([category.text.split('\\n')[0]])\n",
        "categories # Hurrreeeee we got list of all categories\n"
      ],
      "metadata": {
        "colab": {
          "base_uri": "https://localhost:8080/"
        },
        "id": "97BLDOmJzeH6",
        "outputId": "acb7c94f-bc62-4128-f6a1-413f5dc4efbd"
      },
      "execution_count": 10,
      "outputs": [
        {
          "output_type": "execute_result",
          "data": {
            "text/plain": [
              "['Best Motion Picture',\n",
              " 'Drama',\n",
              " 'Musical or Comedy',\n",
              " 'Best Performance in a Motion Picture – Drama',\n",
              " 'Actor',\n",
              " 'Actress',\n",
              " 'Best Performance in a Motion Picture – Musical or Comedy',\n",
              " 'Actor',\n",
              " 'Actress',\n",
              " 'Best Supporting Performance in a Motion Picture – Drama, Musical or Comedy',\n",
              " 'Supporting Actor',\n",
              " 'Supporting Actress',\n",
              " 'Best Director',\n",
              " 'Best Screenplay',\n",
              " 'Best Original Score',\n",
              " 'Best Original Song',\n",
              " 'Best Foreign Language Film']"
            ]
          },
          "metadata": {},
          "execution_count": 10
        }
      ]
    },
    {
      "cell_type": "code",
      "source": [
        "winnerlist=[]\n",
        "listofwinners= table.find_all('b')\n",
        "i=2\n",
        "for winner in listofwinners:\n",
        "  winnerlist.append(winner.text)\n",
        "  sheet.cell(row = i, column = 2).value = winner.text\n",
        "  i=i+1\n",
        "  #sheet.append([winner.text])\n",
        "winnerlist\n"
      ],
      "metadata": {
        "colab": {
          "base_uri": "https://localhost:8080/"
        },
        "id": "EOAMV8eB0hzU",
        "outputId": "19306dc5-cd16-44c8-cb6d-fcf18ca69f2f"
      },
      "execution_count": 11,
      "outputs": [
        {
          "output_type": "execute_result",
          "data": {
            "text/plain": [
              "['Brokeback Mountain',\n",
              " 'Walk the Line',\n",
              " 'Philip Seymour Hoffman – Capote as Truman Capote',\n",
              " 'Felicity Huffman – Transamerica as Sabrina \"Bree\" Osbourne',\n",
              " 'Joaquin Phoenix – Walk the Line as Johnny Cash',\n",
              " 'Reese Witherspoon – Walk the Line as June Carter Cash',\n",
              " 'George Clooney – Syriana as Bob Barnes',\n",
              " 'Rachel Weisz – The Constant Gardener as Tessa Quayle',\n",
              " 'Ang Lee – Brokeback Mountain',\n",
              " 'Larry McMurtry and Diana Ossana – Brokeback Mountain',\n",
              " 'John Williams – Memoirs of a Geisha',\n",
              " '\"A Love That Will Never Grow Old\" (Gustavo Santaolalla and Bernie Taupin) – Brokeback Mountain',\n",
              " 'Paradise Now (Palestine)']"
            ]
          },
          "metadata": {},
          "execution_count": 11
        }
      ]
    },
    {
      "cell_type": "code",
      "source": [
        "nominee=[]\n",
        "listofnominees= table.find_all('i')\n",
        "i=2\n",
        "for nom in listofnominees:\n",
        "  nominee.append(nom.text)\n",
        "  sheet.cell(row = i, column = 3).value = nom.text\n",
        "  i=i+1\n",
        "  #sheet.append([nom.text])\n",
        "nominee"
      ],
      "metadata": {
        "colab": {
          "base_uri": "https://localhost:8080/"
        },
        "id": "aBWCF1UJYuvq",
        "outputId": "eb0d07fa-cd42-47cb-cb16-32bb11b4871e"
      },
      "execution_count": 12,
      "outputs": [
        {
          "output_type": "execute_result",
          "data": {
            "text/plain": [
              "['Brokeback Mountain',\n",
              " 'The Constant Gardener',\n",
              " 'Good Night, and Good Luck',\n",
              " 'A History of Violence',\n",
              " 'Match Point',\n",
              " 'Walk the Line',\n",
              " 'Mrs Henderson Presents',\n",
              " 'Pride & Prejudice',\n",
              " 'The Producers',\n",
              " 'The Squid and the Whale',\n",
              " 'Capote',\n",
              " 'Cinderella Man',\n",
              " 'Hustle & Flow',\n",
              " 'Brokeback Mountain',\n",
              " 'Good Night, and Good Luck',\n",
              " 'Transamerica',\n",
              " 'A History of Violence',\n",
              " 'Proof',\n",
              " 'North Country',\n",
              " 'Memoirs of a Geisha',\n",
              " 'Walk the Line',\n",
              " 'The Matador',\n",
              " 'The Squid and the Whale',\n",
              " 'Charlie and the Chocolate Factory',\n",
              " 'The Producers',\n",
              " 'Breakfast on Pluto',\n",
              " 'Walk the Line',\n",
              " 'Mrs Henderson Presents',\n",
              " 'Pride & Prejudice',\n",
              " 'The Squid and the Whale',\n",
              " 'The Family Stone',\n",
              " 'Syriana',\n",
              " 'Crash',\n",
              " 'The Producers',\n",
              " 'Cinderella Man',\n",
              " 'Mrs Henderson Presents',\n",
              " 'The Constant Gardener',\n",
              " 'Match Point',\n",
              " 'In Her Shoes',\n",
              " 'North Country',\n",
              " 'Brokeback Mountain',\n",
              " 'Brokeback Mountain',\n",
              " 'Match Point',\n",
              " 'Good Night, and Good Luck',\n",
              " 'King Kong',\n",
              " 'The Constant Gardener',\n",
              " 'Munich',\n",
              " 'Brokeback Mountain',\n",
              " 'Match Point',\n",
              " 'Good Night, and Good Luck',\n",
              " 'Crash',\n",
              " 'Munich',\n",
              " 'Memoirs of a Geisha',\n",
              " 'Syriana',\n",
              " 'The Chronicles of Narnia: The Lion, the Witch and the Wardrobe',\n",
              " 'King Kong',\n",
              " 'Brokeback Mountain',\n",
              " 'Brokeback Mountain',\n",
              " 'Christmas in Love',\n",
              " 'The Producers',\n",
              " 'Transamerica',\n",
              " 'The Chronicles of Narnia: The Lion, the Witch and the Wardrobe',\n",
              " 'Paradise Now',\n",
              " 'Kung Fu Hustle',\n",
              " 'Merry Christmas (Joyeux Noël)',\n",
              " 'The Promise',\n",
              " 'Tsotsi']"
            ]
          },
          "metadata": {},
          "execution_count": 12
        }
      ]
    },
    {
      "cell_type": "code",
      "source": [
        "excel.save('IMDB_Movie_Analysis.xlsx') # To save excel file, By doing this we'll able to watch our\n",
        "# excel file in the system"
      ],
      "metadata": {
        "id": "S81-ub9fYudc"
      },
      "execution_count": 13,
      "outputs": []
    },
    {
      "cell_type": "code",
      "source": [],
      "metadata": {
        "id": "-D_EmGjzTonq"
      },
      "execution_count": 13,
      "outputs": []
    },
    {
      "cell_type": "code",
      "source": [
        "#listofwinners= table.find_all('b')\n",
        "q=table.find_next('th')\n",
        "print(q.text)\n",
        "a=table.find_next('b')\n",
        "print(a)\n",
        "print(a.find_next('b'))\n",
        "print(a.find_next('th'))"
      ],
      "metadata": {
        "colab": {
          "base_uri": "https://localhost:8080/"
        },
        "id": "o3cV0VyP8vNK",
        "outputId": "1e1cfeb7-f4da-420e-b998-11708929b559"
      },
      "execution_count": 14,
      "outputs": [
        {
          "output_type": "stream",
          "name": "stdout",
          "text": [
            "Best Motion Picture\n",
            "\n",
            "<b><a href=\"/wiki/Brokeback_Mountain\" title=\"Brokeback Mountain\">Brokeback Mountain</a></b>\n",
            "<b><a href=\"/wiki/Walk_the_Line\" title=\"Walk the Line\">Walk the Line</a></b>\n",
            "<th colspan=\"2\">Best Performance in a Motion Picture – Drama\n",
            "</th>\n"
          ]
        }
      ]
    },
    {
      "cell_type": "code",
      "source": [
        "c=[]\n",
        "b=table.find_next('a')\n",
        "for i in list(range(1,100)):\n",
        "  #print(b.find_next('a'))\n",
        "  b=b.find_next('a')\n",
        "  x=b.text\n",
        "  print(x)"
      ],
      "metadata": {
        "colab": {
          "base_uri": "https://localhost:8080/"
        },
        "id": "kSs6mbSmC0ei",
        "outputId": "62be1646-b096-4bb5-d5b1-fac3246f7f2c"
      },
      "execution_count": 15,
      "outputs": [
        {
          "output_type": "stream",
          "name": "stdout",
          "text": [
            "Musical or Comedy\n",
            "Brokeback Mountain\n",
            "The Constant Gardener\n",
            "Good Night, and Good Luck\n",
            "A History of Violence\n",
            "Match Point\n",
            "Walk the Line\n",
            "Mrs Henderson Presents\n",
            "Pride & Prejudice\n",
            "The Producers\n",
            "The Squid and the Whale\n",
            "Actor\n",
            "Actress\n",
            "Philip Seymour Hoffman\n",
            "Capote\n",
            "Truman Capote\n",
            "Russell Crowe\n",
            "Cinderella Man\n",
            "James J. Braddock\n",
            "Terrence Howard\n",
            "Hustle & Flow\n",
            "Heath Ledger\n",
            "Brokeback Mountain\n",
            "Ennis Del Mar\n",
            "David Strathairn\n",
            "Good Night, and Good Luck\n",
            "Edward R. Murrow\n",
            "Felicity Huffman\n",
            "Transamerica\n",
            "Maria Bello\n",
            "A History of Violence\n",
            "Gwyneth Paltrow\n",
            "Proof\n",
            "Charlize Theron\n",
            "North Country\n",
            "Ziyi Zhang\n",
            "Memoirs of a Geisha\n",
            "Actor\n",
            "Actress\n",
            "Joaquin Phoenix\n",
            "Walk the Line\n",
            "Johnny Cash\n",
            "Pierce Brosnan\n",
            "The Matador\n",
            "Jeff Daniels\n",
            "The Squid and the Whale\n",
            "Johnny Depp\n",
            "Charlie and the Chocolate Factory\n",
            "Willy Wonka\n",
            "Nathan Lane\n",
            "The Producers\n",
            "Max Bialystock\n",
            "Cillian Murphy\n",
            "Breakfast on Pluto\n",
            "Reese Witherspoon\n",
            "Walk the Line\n",
            "June Carter Cash\n",
            "Judi Dench\n",
            "Mrs Henderson Presents\n",
            "Laura Henderson\n",
            "Keira Knightley\n",
            "Pride & Prejudice\n",
            "Elizabeth Bennet\n",
            "Laura Linney\n",
            "The Squid and the Whale\n",
            "Sarah Jessica Parker\n",
            "The Family Stone\n",
            "Supporting Actor\n",
            "Supporting Actress\n",
            "George Clooney\n",
            "Syriana\n",
            "Matt Dillon\n",
            "Crash\n",
            "Will Ferrell\n",
            "The Producers\n",
            "Franz Liebkind\n",
            "Paul Giamatti\n",
            "Cinderella Man\n",
            "Joe Gould\n",
            "Bob Hoskins\n",
            "Mrs Henderson Presents\n",
            "Vivian Van Damm\n",
            "Rachel Weisz\n",
            "The Constant Gardener\n",
            "Scarlett Johansson\n",
            "Match Point\n",
            "Shirley MacLaine\n",
            "In Her Shoes\n",
            "Frances McDormand\n",
            "North Country\n",
            "Michelle Williams\n",
            "Brokeback Mountain\n",
            "Best Director\n",
            "Best Screenplay\n",
            "Ang Lee\n",
            "Brokeback Mountain\n",
            "Woody Allen\n",
            "Match Point\n",
            "George Clooney\n"
          ]
        }
      ]
    },
    {
      "cell_type": "code",
      "source": [],
      "metadata": {
        "id": "IKrv8vqYMsX2"
      },
      "execution_count": 15,
      "outputs": []
    }
  ]
}