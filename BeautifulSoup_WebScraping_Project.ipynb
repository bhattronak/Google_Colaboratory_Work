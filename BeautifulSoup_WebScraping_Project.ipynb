{
  "nbformat": 4,
  "nbformat_minor": 0,
  "metadata": {
    "colab": {
      "provenance": [],
      "collapsed_sections": [],
      "authorship_tag": "ABX9TyPxAI0rly8pozsxVn9+VdhS",
      "include_colab_link": true
    },
    "kernelspec": {
      "name": "python3",
      "display_name": "Python 3"
    },
    "language_info": {
      "name": "python"
    }
  },
  "cells": [
    {
      "cell_type": "markdown",
      "metadata": {
        "id": "view-in-github",
        "colab_type": "text"
      },
      "source": [
        "<a href=\"https://colab.research.google.com/github/bhattronak/Google_Colaboratory_Work/blob/main/BeautifulSoup_WebScraping_Project.ipynb\" target=\"_parent\"><img src=\"https://colab.research.google.com/assets/colab-badge.svg\" alt=\"Open In Colab\"/></a>"
      ]
    },
    {
      "cell_type": "code",
      "execution_count": 1,
      "metadata": {
        "colab": {
          "base_uri": "https://localhost:8080/"
        },
        "id": "pnThsleTsDNT",
        "outputId": "0c9077cf-c7e8-4b0f-8727-b9419711cb23"
      },
      "outputs": [
        {
          "output_type": "stream",
          "name": "stdout",
          "text": [
            "Looking in indexes: https://pypi.org/simple, https://us-python.pkg.dev/colab-wheels/public/simple/\n",
            "Requirement already satisfied: bs4 in /usr/local/lib/python3.7/dist-packages (0.0.1)\n",
            "Requirement already satisfied: beautifulsoup4 in /usr/local/lib/python3.7/dist-packages (from bs4) (4.6.3)\n"
          ]
        }
      ],
      "source": [
        "!pip install bs4"
      ]
    },
    {
      "cell_type": "code",
      "source": [
        "# Basic of html is required to do web scraping\n",
        "# <td(starting) (text for td)............attributes such as class='abc',style='xyz'......</td>(means completion of td)\n",
        "from bs4 import BeautifulSoup\n",
        "import requests"
      ],
      "metadata": {
        "id": "ALCxBmUOsJUW"
      },
      "execution_count": 2,
      "outputs": []
    },
    {
      "cell_type": "code",
      "source": [
        "try:# because if url is invalid then it supposed to give error which will be return from Exception\n",
        "  source = requests.get('https://en.wikipedia.org/wiki/63rd_Golden_Globe_Awards')\n",
        "  #print(type(source))\n",
        "  source.raise_for_status()\n",
        "  soup = BeautifulSoup(source.text,'html.parser') # Type of variable soup is BeautifulSoup # It's text of html text of given website.\n",
        "\n",
        "  table=soup.find('table',class_=\"wikitable\",style=\"width=100%\") # We wrote it beause of \"<table class=\"wikitable\" style=\"width=100%\">\"\n",
        "  # find will find perticular <x ....... </x> that x from whole html text\n",
        "  print(table) # table is for this table in \n",
        "  #print(type(source))\n",
        "except Exception as e:\n",
        "  print(e)"
      ],
      "metadata": {
        "colab": {
          "base_uri": "https://localhost:8080/"
        },
        "id": "nxpWo8O0siU7",
        "outputId": "48c2eeeb-a49e-4a6a-8fcc-8d390549ec5d"
      },
      "execution_count": 3,
      "outputs": [
        {
          "output_type": "stream",
          "name": "stdout",
          "text": [
            "<table class=\"wikitable\" style=\"width=100%\">\n",
            "<tbody><tr>\n",
            "<th colspan=\"2\">Best Motion Picture\n",
            "</th></tr>\n",
            "<tr>\n",
            "<th style=\"width=50%\"><a href=\"/wiki/Golden_Globe_Award_for_Best_Motion_Picture_%E2%80%93_Drama\" title=\"Golden Globe Award for Best Motion Picture – Drama\">Drama</a>\n",
            "</th>\n",
            "<th style=\"width=50%\"><a href=\"/wiki/Golden_Globe_Award_for_Best_Motion_Picture_%E2%80%93_Musical_or_Comedy\" title=\"Golden Globe Award for Best Motion Picture – Musical or Comedy\">Musical or Comedy</a>\n",
            "</th></tr>\n",
            "<tr>\n",
            "<td valign=\"top\">\n",
            "<ul><li><i><b><a href=\"/wiki/Brokeback_Mountain\" title=\"Brokeback Mountain\">Brokeback Mountain</a></b></i>\n",
            "<ul><li><i><a href=\"/wiki/The_Constant_Gardener_(film)\" title=\"The Constant Gardener (film)\">The Constant Gardener</a></i></li>\n",
            "<li><i><a href=\"/wiki/Good_Night,_and_Good_Luck\" title=\"Good Night, and Good Luck\">Good Night, and Good Luck</a></i>.</li>\n",
            "<li><i><a href=\"/wiki/A_History_of_Violence\" title=\"A History of Violence\">A History of Violence</a></i></li>\n",
            "<li><i><a href=\"/wiki/Match_Point\" title=\"Match Point\">Match Point</a></i></li></ul></li></ul>\n",
            "</td>\n",
            "<td valign=\"top\">\n",
            "<ul><li><i><b><a href=\"/wiki/Walk_the_Line\" title=\"Walk the Line\">Walk the Line</a></b></i>\n",
            "<ul><li><i><a href=\"/wiki/Mrs_Henderson_Presents\" title=\"Mrs Henderson Presents\">Mrs Henderson Presents</a></i></li>\n",
            "<li><i><a href=\"/wiki/Pride_%26_Prejudice_(2005_film)\" title=\"Pride &amp; Prejudice (2005 film)\">Pride &amp; Prejudice</a></i></li>\n",
            "<li><i><a href=\"/wiki/The_Producers_(2005_film)\" title=\"The Producers (2005 film)\">The Producers</a></i></li>\n",
            "<li><i><a href=\"/wiki/The_Squid_and_the_Whale\" title=\"The Squid and the Whale\">The Squid and the Whale</a></i></li></ul></li></ul>\n",
            "</td></tr>\n",
            "<tr>\n",
            "<th colspan=\"2\">Best Performance in a Motion Picture – Drama\n",
            "</th></tr>\n",
            "<tr>\n",
            "<th><a href=\"/wiki/Golden_Globe_Award_for_Best_Actor_%E2%80%93_Motion_Picture_Drama\" title=\"Golden Globe Award for Best Actor – Motion Picture Drama\">Actor</a>\n",
            "</th>\n",
            "<th><a class=\"mw-redirect\" href=\"/wiki/Golden_Globe_Award_for_Best_Actress_%E2%80%93_Motion_Picture_Drama\" title=\"Golden Globe Award for Best Actress – Motion Picture Drama\">Actress</a>\n",
            "</th></tr>\n",
            "<tr>\n",
            "<td valign=\"top\">\n",
            "<ul><li><b><a href=\"/wiki/Philip_Seymour_Hoffman\" title=\"Philip Seymour Hoffman\">Philip Seymour Hoffman</a> – <i><a href=\"/wiki/Capote_(film)\" title=\"Capote (film)\">Capote</a></i> as <a href=\"/wiki/Truman_Capote\" title=\"Truman Capote\">Truman Capote</a></b>\n",
            "<ul><li><a href=\"/wiki/Russell_Crowe\" title=\"Russell Crowe\">Russell Crowe</a> – <i><a href=\"/wiki/Cinderella_Man\" title=\"Cinderella Man\">Cinderella Man</a></i> as <a href=\"/wiki/James_J._Braddock\" title=\"James J. Braddock\">James J. Braddock</a></li>\n",
            "<li><a href=\"/wiki/Terrence_Howard\" title=\"Terrence Howard\">Terrence Howard</a> – <i><a href=\"/wiki/Hustle_%26_Flow\" title=\"Hustle &amp; Flow\">Hustle &amp; Flow</a></i> as DJay</li>\n",
            "<li><a href=\"/wiki/Heath_Ledger\" title=\"Heath Ledger\">Heath Ledger</a> – <i><a href=\"/wiki/Brokeback_Mountain\" title=\"Brokeback Mountain\">Brokeback Mountain</a></i> as <a href=\"/wiki/Ennis_Del_Mar\" title=\"Ennis Del Mar\">Ennis Del Mar</a></li>\n",
            "<li><a href=\"/wiki/David_Strathairn\" title=\"David Strathairn\">David Strathairn</a> – <i><a href=\"/wiki/Good_Night,_and_Good_Luck\" title=\"Good Night, and Good Luck\">Good Night, and Good Luck</a></i>. as <a href=\"/wiki/Edward_R._Murrow\" title=\"Edward R. Murrow\">Edward R. Murrow</a></li></ul></li></ul>\n",
            "</td>\n",
            "<td valign=\"top\">\n",
            "<ul><li><b><a href=\"/wiki/Felicity_Huffman\" title=\"Felicity Huffman\">Felicity Huffman</a> – <i><a href=\"/wiki/Transamerica_(film)\" title=\"Transamerica (film)\">Transamerica</a></i> as Sabrina \"Bree\" Osbourne</b>\n",
            "<ul><li><a href=\"/wiki/Maria_Bello\" title=\"Maria Bello\">Maria Bello</a> – <i><a href=\"/wiki/A_History_of_Violence\" title=\"A History of Violence\">A History of Violence</a></i> as Edie Stall</li>\n",
            "<li><a href=\"/wiki/Gwyneth_Paltrow\" title=\"Gwyneth Paltrow\">Gwyneth Paltrow</a> – <i><a href=\"/wiki/Proof_(2005_film)\" title=\"Proof (2005 film)\">Proof</a></i> as Catherine Llewellyn</li>\n",
            "<li><a href=\"/wiki/Charlize_Theron\" title=\"Charlize Theron\">Charlize Theron</a> – <i><a href=\"/wiki/North_Country_(film)\" title=\"North Country (film)\">North Country</a></i> as Josey Aimes</li>\n",
            "<li><a class=\"mw-redirect\" href=\"/wiki/Ziyi_Zhang\" title=\"Ziyi Zhang\">Ziyi Zhang</a> – <i><a href=\"/wiki/Memoirs_of_a_Geisha_(film)\" title=\"Memoirs of a Geisha (film)\">Memoirs of a Geisha</a></i> as Chiyo Sakamoto / Sayuri Nitta</li></ul></li></ul>\n",
            "</td></tr>\n",
            "<tr>\n",
            "<th colspan=\"2\">Best Performance in a Motion Picture – Musical or Comedy\n",
            "</th></tr>\n",
            "<tr>\n",
            "<th><a href=\"/wiki/Golden_Globe_Award_for_Best_Actor_%E2%80%93_Motion_Picture_Musical_or_Comedy\" title=\"Golden Globe Award for Best Actor – Motion Picture Musical or Comedy\">Actor</a>\n",
            "</th>\n",
            "<th><a class=\"mw-redirect\" href=\"/wiki/Golden_Globe_Award_for_Best_Actress_%E2%80%93_Motion_Picture_Musical_or_Comedy\" title=\"Golden Globe Award for Best Actress – Motion Picture Musical or Comedy\">Actress</a>\n",
            "</th></tr>\n",
            "<tr>\n",
            "<td valign=\"top\">\n",
            "<ul><li><b><a href=\"/wiki/Joaquin_Phoenix\" title=\"Joaquin Phoenix\">Joaquin Phoenix</a> – <i><a href=\"/wiki/Walk_the_Line\" title=\"Walk the Line\">Walk the Line</a></i> as <a href=\"/wiki/Johnny_Cash\" title=\"Johnny Cash\">Johnny Cash</a></b>\n",
            "<ul><li><a href=\"/wiki/Pierce_Brosnan\" title=\"Pierce Brosnan\">Pierce Brosnan</a> – <i><a href=\"/wiki/The_Matador\" title=\"The Matador\">The Matador</a></i> as Julian Noble</li>\n",
            "<li><a href=\"/wiki/Jeff_Daniels\" title=\"Jeff Daniels\">Jeff Daniels</a> – <i><a href=\"/wiki/The_Squid_and_the_Whale\" title=\"The Squid and the Whale\">The Squid and the Whale</a></i> as Bernard Berkman</li>\n",
            "<li><a href=\"/wiki/Johnny_Depp\" title=\"Johnny Depp\">Johnny Depp</a> – <i><a href=\"/wiki/Charlie_and_the_Chocolate_Factory_(film)\" title=\"Charlie and the Chocolate Factory (film)\">Charlie and the Chocolate Factory</a></i> as <a href=\"/wiki/Willy_Wonka\" title=\"Willy Wonka\">Willy Wonka</a></li>\n",
            "<li><a href=\"/wiki/Nathan_Lane\" title=\"Nathan Lane\">Nathan Lane</a> – <i><a href=\"/wiki/The_Producers_(2005_film)\" title=\"The Producers (2005 film)\">The Producers</a></i> as <a class=\"mw-redirect\" href=\"/wiki/Max_Bialystock\" title=\"Max Bialystock\">Max Bialystock</a></li>\n",
            "<li><a href=\"/wiki/Cillian_Murphy\" title=\"Cillian Murphy\">Cillian Murphy</a> – <i><a href=\"/wiki/Breakfast_on_Pluto_(film)\" title=\"Breakfast on Pluto (film)\">Breakfast on Pluto</a></i> as Patrick / Patricia \"Kitten\" Braden</li></ul></li></ul>\n",
            "</td>\n",
            "<td valign=\"top\">\n",
            "<ul><li><b><a href=\"/wiki/Reese_Witherspoon\" title=\"Reese Witherspoon\">Reese Witherspoon</a> – <i><a href=\"/wiki/Walk_the_Line\" title=\"Walk the Line\">Walk the Line</a></i> as <a href=\"/wiki/June_Carter_Cash\" title=\"June Carter Cash\">June Carter Cash</a></b>\n",
            "<ul><li><a href=\"/wiki/Judi_Dench\" title=\"Judi Dench\">Judi Dench</a> – <i><a href=\"/wiki/Mrs_Henderson_Presents\" title=\"Mrs Henderson Presents\">Mrs Henderson Presents</a></i> as <a href=\"/wiki/Laura_Henderson\" title=\"Laura Henderson\">Laura Henderson</a></li>\n",
            "<li><a href=\"/wiki/Keira_Knightley\" title=\"Keira Knightley\">Keira Knightley</a> – <i><a href=\"/wiki/Pride_%26_Prejudice_(2005_film)\" title=\"Pride &amp; Prejudice (2005 film)\">Pride &amp; Prejudice</a></i> as <a href=\"/wiki/Elizabeth_Bennet\" title=\"Elizabeth Bennet\">Elizabeth Bennet</a></li>\n",
            "<li><a href=\"/wiki/Laura_Linney\" title=\"Laura Linney\">Laura Linney</a> – <i><a href=\"/wiki/The_Squid_and_the_Whale\" title=\"The Squid and the Whale\">The Squid and the Whale</a></i> as Joan Berkman</li>\n",
            "<li><a href=\"/wiki/Sarah_Jessica_Parker\" title=\"Sarah Jessica Parker\">Sarah Jessica Parker</a> – <i><a href=\"/wiki/The_Family_Stone\" title=\"The Family Stone\">The Family Stone</a></i> as Meredith Morton</li></ul></li></ul>\n",
            "</td></tr>\n",
            "<tr>\n",
            "<th colspan=\"2\">Best Supporting Performance in a Motion Picture – Drama, Musical or Comedy\n",
            "</th></tr>\n",
            "<tr>\n",
            "<th><a href=\"/wiki/Golden_Globe_Award_for_Best_Supporting_Actor_%E2%80%93_Motion_Picture\" title=\"Golden Globe Award for Best Supporting Actor – Motion Picture\">Supporting Actor</a>\n",
            "</th>\n",
            "<th><a href=\"/wiki/Golden_Globe_Award_for_Best_Supporting_Actress_%E2%80%93_Motion_Picture\" title=\"Golden Globe Award for Best Supporting Actress – Motion Picture\">Supporting Actress</a>\n",
            "</th></tr>\n",
            "<tr>\n",
            "<td valign=\"top\">\n",
            "<ul><li><b><a href=\"/wiki/George_Clooney\" title=\"George Clooney\">George Clooney</a> – <i><a href=\"/wiki/Syriana\" title=\"Syriana\">Syriana</a></i> as Bob Barnes</b>\n",
            "<ul><li><a href=\"/wiki/Matt_Dillon\" title=\"Matt Dillon\">Matt Dillon</a> – <i><a href=\"/wiki/Crash_(2004_film)\" title=\"Crash (2004 film)\">Crash</a></i> as Officer John Ryan</li>\n",
            "<li><a href=\"/wiki/Will_Ferrell\" title=\"Will Ferrell\">Will Ferrell</a> – <i><a href=\"/wiki/The_Producers_(2005_film)\" title=\"The Producers (2005 film)\">The Producers</a></i> as <a class=\"mw-redirect\" href=\"/wiki/Franz_Liebkind\" title=\"Franz Liebkind\">Franz Liebkind</a></li>\n",
            "<li><a href=\"/wiki/Paul_Giamatti\" title=\"Paul Giamatti\">Paul Giamatti</a> – <i><a href=\"/wiki/Cinderella_Man\" title=\"Cinderella Man\">Cinderella Man</a></i> as <a href=\"/wiki/Joe_Gould_(boxing)\" title=\"Joe Gould (boxing)\">Joe Gould</a></li>\n",
            "<li><a href=\"/wiki/Bob_Hoskins\" title=\"Bob Hoskins\">Bob Hoskins</a> – <i><a href=\"/wiki/Mrs_Henderson_Presents\" title=\"Mrs Henderson Presents\">Mrs Henderson Presents</a></i> as <a href=\"/wiki/Vivian_Van_Damm\" title=\"Vivian Van Damm\">Vivian Van Damm</a></li></ul></li></ul>\n",
            "</td>\n",
            "<td valign=\"top\">\n",
            "<ul><li><b><a href=\"/wiki/Rachel_Weisz\" title=\"Rachel Weisz\">Rachel Weisz</a> – <i><a href=\"/wiki/The_Constant_Gardener_(film)\" title=\"The Constant Gardener (film)\">The Constant Gardener</a></i> as Tessa Quayle</b>\n",
            "<ul><li><a href=\"/wiki/Scarlett_Johansson\" title=\"Scarlett Johansson\">Scarlett Johansson</a> – <i><a href=\"/wiki/Match_Point\" title=\"Match Point\">Match Point</a></i> as Nola Rice</li>\n",
            "<li><a href=\"/wiki/Shirley_MacLaine\" title=\"Shirley MacLaine\">Shirley MacLaine</a> – <i><a href=\"/wiki/In_Her_Shoes_(film)\" title=\"In Her Shoes (film)\">In Her Shoes</a></i> as Ella Hirsch</li>\n",
            "<li><a href=\"/wiki/Frances_McDormand\" title=\"Frances McDormand\">Frances McDormand</a> – <i><a href=\"/wiki/North_Country_(film)\" title=\"North Country (film)\">North Country</a></i> as Glory Dodge</li>\n",
            "<li><a href=\"/wiki/Michelle_Williams_(actress)\" title=\"Michelle Williams (actress)\">Michelle Williams</a> – <i><a href=\"/wiki/Brokeback_Mountain\" title=\"Brokeback Mountain\">Brokeback Mountain</a></i> as Alma Beers Del Mar</li></ul></li></ul>\n",
            "</td></tr>\n",
            "<tr>\n",
            "<th><a href=\"/wiki/Golden_Globe_Award_for_Best_Director\" title=\"Golden Globe Award for Best Director\">Best Director</a>\n",
            "</th>\n",
            "<th><a href=\"/wiki/Golden_Globe_Award_for_Best_Screenplay\" title=\"Golden Globe Award for Best Screenplay\">Best Screenplay</a>\n",
            "</th></tr>\n",
            "<tr>\n",
            "<td valign=\"top\">\n",
            "<ul><li><b><a href=\"/wiki/Ang_Lee\" title=\"Ang Lee\">Ang Lee</a> – <i><a href=\"/wiki/Brokeback_Mountain\" title=\"Brokeback Mountain\">Brokeback Mountain</a></i></b>\n",
            "<ul><li><a href=\"/wiki/Woody_Allen\" title=\"Woody Allen\">Woody Allen</a> – <i><a href=\"/wiki/Match_Point\" title=\"Match Point\">Match Point</a></i></li>\n",
            "<li><a href=\"/wiki/George_Clooney\" title=\"George Clooney\">George Clooney</a> – <i><a href=\"/wiki/Good_Night,_and_Good_Luck\" title=\"Good Night, and Good Luck\">Good Night, and Good Luck</a></i>.</li>\n",
            "<li><a href=\"/wiki/Peter_Jackson\" title=\"Peter Jackson\">Peter Jackson</a> – <i><a href=\"/wiki/King_Kong_(2005_film)\" title=\"King Kong (2005 film)\">King Kong</a></i></li>\n",
            "<li><a href=\"/wiki/Fernando_Meirelles\" title=\"Fernando Meirelles\">Fernando Meirelles</a> – <i><a href=\"/wiki/The_Constant_Gardener_(film)\" title=\"The Constant Gardener (film)\">The Constant Gardener</a></i></li>\n",
            "<li><a href=\"/wiki/Steven_Spielberg\" title=\"Steven Spielberg\">Steven Spielberg</a> – <i><a href=\"/wiki/Munich_(2005_film)\" title=\"Munich (2005 film)\">Munich</a></i></li></ul></li></ul>\n",
            "</td>\n",
            "<td valign=\"top\">\n",
            "<ul><li><b><a href=\"/wiki/Larry_McMurtry\" title=\"Larry McMurtry\">Larry McMurtry</a> and <a href=\"/wiki/Diana_Ossana\" title=\"Diana Ossana\">Diana Ossana</a> – <i><a href=\"/wiki/Brokeback_Mountain\" title=\"Brokeback Mountain\">Brokeback Mountain</a></i></b>\n",
            "<ul><li><a href=\"/wiki/Woody_Allen\" title=\"Woody Allen\">Woody Allen</a> – <i><a href=\"/wiki/Match_Point\" title=\"Match Point\">Match Point</a></i></li>\n",
            "<li><a href=\"/wiki/George_Clooney\" title=\"George Clooney\">George Clooney</a> and <a href=\"/wiki/Grant_Heslov\" title=\"Grant Heslov\">Grant Heslov</a> – <i><a href=\"/wiki/Good_Night,_and_Good_Luck\" title=\"Good Night, and Good Luck\">Good Night, and Good Luck</a></i>.</li>\n",
            "<li><a href=\"/wiki/Paul_Haggis\" title=\"Paul Haggis\">Paul Haggis</a> and <a href=\"/wiki/Robert_Moresco\" title=\"Robert Moresco\">Bobby Moresco</a> – <i><a href=\"/wiki/Crash_(2004_film)\" title=\"Crash (2004 film)\">Crash</a></i></li>\n",
            "<li><a href=\"/wiki/Tony_Kushner\" title=\"Tony Kushner\">Tony Kushner</a> and <a href=\"/wiki/Eric_Roth\" title=\"Eric Roth\">Eric Roth</a> – <i><a href=\"/wiki/Munich_(2005_film)\" title=\"Munich (2005 film)\">Munich</a></i></li></ul></li></ul>\n",
            "</td></tr>\n",
            "<tr>\n",
            "<th><a href=\"/wiki/Golden_Globe_Award_for_Best_Original_Score\" title=\"Golden Globe Award for Best Original Score\">Best Original Score</a>\n",
            "</th>\n",
            "<th><span class=\"anchor\" id=\"Best_Original_Song\"></span><a href=\"/wiki/Golden_Globe_Award_for_Best_Original_Song\" title=\"Golden Globe Award for Best Original Song\">Best Original Song</a>\n",
            "</th></tr>\n",
            "<tr>\n",
            "<td valign=\"top\">\n",
            "<ul><li><b><a href=\"/wiki/John_Williams\" title=\"John Williams\">John Williams</a> – <i><a href=\"/wiki/Memoirs_of_a_Geisha_(film)\" title=\"Memoirs of a Geisha (film)\">Memoirs of a Geisha</a></i></b>\n",
            "<ul><li><a href=\"/wiki/Alexandre_Desplat\" title=\"Alexandre Desplat\">Alexandre Desplat</a> – <i><a href=\"/wiki/Syriana\" title=\"Syriana\">Syriana</a></i></li>\n",
            "<li><a href=\"/wiki/Harry_Gregson-Williams\" title=\"Harry Gregson-Williams\">Harry Gregson-Williams</a> – <i><a href=\"/wiki/The_Chronicles_of_Narnia:_The_Lion,_the_Witch_and_the_Wardrobe\" title=\"The Chronicles of Narnia: The Lion, the Witch and the Wardrobe\">The Chronicles of Narnia: The Lion, the Witch and the Wardrobe</a></i></li>\n",
            "<li><a href=\"/wiki/James_Newton_Howard\" title=\"James Newton Howard\">James Newton Howard</a> – <i><a href=\"/wiki/King_Kong_(2005_film)\" title=\"King Kong (2005 film)\">King Kong</a></i></li>\n",
            "<li><a href=\"/wiki/Gustavo_Santaolalla\" title=\"Gustavo Santaolalla\">Gustavo Santaolalla</a> – <i><a href=\"/wiki/Brokeback_Mountain\" title=\"Brokeback Mountain\">Brokeback Mountain</a></i></li></ul></li></ul>\n",
            "</td>\n",
            "<td valign=\"top\">\n",
            "<ul><li><b>\"<a href=\"/wiki/A_Love_That_Will_Never_Grow_Old\" title=\"A Love That Will Never Grow Old\">A Love That Will Never Grow Old</a>\" (<a href=\"/wiki/Gustavo_Santaolalla\" title=\"Gustavo Santaolalla\">Gustavo Santaolalla</a> and <a href=\"/wiki/Bernie_Taupin\" title=\"Bernie Taupin\">Bernie Taupin</a>) – <i><a href=\"/wiki/Brokeback_Mountain\" title=\"Brokeback Mountain\">Brokeback Mountain</a></i></b>\n",
            "<ul><li>\"Christmas in Love\" (<a href=\"/wiki/Tony_Renis\" title=\"Tony Renis\">Tony Renis</a> and Marva Jan Marrow) – <i><a href=\"/wiki/Christmas_in_Love\" title=\"Christmas in Love\">Christmas in Love</a></i></li>\n",
            "<li>\"There's Nothing Like a Show on Broadway\" (<a href=\"/wiki/Mel_Brooks\" title=\"Mel Brooks\">Mel Brooks</a>) – <i><a href=\"/wiki/The_Producers_(2005_film)\" title=\"The Producers (2005 film)\">The Producers</a></i></li>\n",
            "<li>\"<a href=\"/wiki/Transamerica_(soundtrack)#Travelin'_Thru\" title=\"Transamerica (soundtrack)\">Travelin' Thru</a>\" (<a href=\"/wiki/Dolly_Parton\" title=\"Dolly Parton\">Dolly Parton</a>) – <i><a href=\"/wiki/Transamerica_(film)\" title=\"Transamerica (film)\">Transamerica</a></i></li>\n",
            "<li>\"<a href=\"/wiki/Wunderkind_(song)\" title=\"Wunderkind (song)\">Wunderkind</a>\" (<a href=\"/wiki/Alanis_Morissette\" title=\"Alanis Morissette\">Alanis Morissette</a>) – <i><a href=\"/wiki/The_Chronicles_of_Narnia:_The_Lion,_the_Witch_and_the_Wardrobe\" title=\"The Chronicles of Narnia: The Lion, the Witch and the Wardrobe\">The Chronicles of Narnia: The Lion, the Witch and the Wardrobe</a></i></li></ul></li></ul>\n",
            "</td></tr>\n",
            "<tr>\n",
            "<th colspan=\"2\"><a href=\"/wiki/Golden_Globe_Award_for_Best_Foreign_Language_Film\" title=\"Golden Globe Award for Best Foreign Language Film\">Best Foreign Language Film</a>\n",
            "</th></tr>\n",
            "<tr>\n",
            "<td colspan=\"2\" style=\"vertical-align:top;\">\n",
            "<ul><li><b><i><a href=\"/wiki/Paradise_Now\" title=\"Paradise Now\">Paradise Now</a></i> (<a href=\"/wiki/Cinema_of_Palestine\" title=\"Cinema of Palestine\">Palestine</a>)</b>\n",
            "<ul><li><i><a href=\"/wiki/Kung_Fu_Hustle\" title=\"Kung Fu Hustle\">Kung Fu Hustle</a></i> (<a href=\"/wiki/Cinema_of_China\" title=\"Cinema of China\">China</a>)</li>\n",
            "<li><i><a href=\"/wiki/Joyeux_No%C3%ABl\" title=\"Joyeux Noël\">Merry Christmas (Joyeux Noël)</a></i> (<a href=\"/wiki/Cinema_of_France\" title=\"Cinema of France\">France</a>)</li>\n",
            "<li><i><a href=\"/wiki/The_Promise_(2005_film)\" title=\"The Promise (2005 film)\">The Promise</a></i> (<a href=\"/wiki/Cinema_of_China\" title=\"Cinema of China\">China</a>)</li>\n",
            "<li><i><a href=\"/wiki/Tsotsi\" title=\"Tsotsi\">Tsotsi</a></i> (<a href=\"/wiki/Cinema_of_South_Africa\" title=\"Cinema of South Africa\">South Africa</a>)</li></ul></li></ul>\n",
            "</td></tr></tbody></table>\n"
          ]
        }
      ]
    },
    {
      "cell_type": "code",
      "source": [
        "type(table)"
      ],
      "metadata": {
        "colab": {
          "base_uri": "https://localhost:8080/"
        },
        "id": "1opLfSmIzQxV",
        "outputId": "9d9ebfb6-f4c1-4c69-83b4-d9d030134232"
      },
      "execution_count": 4,
      "outputs": [
        {
          "output_type": "execute_result",
          "data": {
            "text/plain": [
              "bs4.element.Tag"
            ]
          },
          "metadata": {},
          "execution_count": 4
        }
      ]
    },
    {
      "cell_type": "code",
      "source": [
        "type(table.find_all('tr'))"
      ],
      "metadata": {
        "colab": {
          "base_uri": "https://localhost:8080/"
        },
        "id": "wJdfDIvhsu1g",
        "outputId": "22ff5fd2-edee-4e7a-ba7a-6c2b6bc3ac9d"
      },
      "execution_count": 5,
      "outputs": [
        {
          "output_type": "execute_result",
          "data": {
            "text/plain": [
              "bs4.element.ResultSet"
            ]
          },
          "metadata": {},
          "execution_count": 5
        }
      ]
    },
    {
      "cell_type": "code",
      "source": [
        "fulllist = table.find_all('tr') # find_all will return a list of all element starting with 'tr'\n",
        "fulllist1 = table.find_all('th')\n",
        "fulllist1[4].text"
      ],
      "metadata": {
        "colab": {
          "base_uri": "https://localhost:8080/",
          "height": 35
        },
        "id": "Tli03LLjyZZT",
        "outputId": "96deddb6-c69f-423d-ebb3-dbeaa8d08e69"
      },
      "execution_count": 6,
      "outputs": [
        {
          "output_type": "execute_result",
          "data": {
            "text/plain": [
              "'Actor\\n'"
            ],
            "application/vnd.google.colaboratory.intrinsic+json": {
              "type": "string"
            }
          },
          "metadata": {},
          "execution_count": 6
        }
      ]
    },
    {
      "cell_type": "code",
      "source": [
        "# However above fulllist will give list of all 'tr' which is not that usefull beause everything in table starts with tr, we have to be\n",
        "# more specific.\n",
        "# As we can see all categories are under 'th', hence let's male it's list\n",
        "categories=[]\n",
        "listofcategoty = table.find_all('th') \n",
        "for category in listofcategoty:\n",
        "  categories.append(category.text.split('\\n')[0]) # text will return text of that <th... text ..</th>\n",
        "categories # Hurrreeeee we got list of all categories\n"
      ],
      "metadata": {
        "colab": {
          "base_uri": "https://localhost:8080/"
        },
        "id": "97BLDOmJzeH6",
        "outputId": "425537f0-33da-4124-b241-d6007ef8a290"
      },
      "execution_count": 7,
      "outputs": [
        {
          "output_type": "execute_result",
          "data": {
            "text/plain": [
              "['Best Motion Picture',\n",
              " 'Drama',\n",
              " 'Musical or Comedy',\n",
              " 'Best Performance in a Motion Picture – Drama',\n",
              " 'Actor',\n",
              " 'Actress',\n",
              " 'Best Performance in a Motion Picture – Musical or Comedy',\n",
              " 'Actor',\n",
              " 'Actress',\n",
              " 'Best Supporting Performance in a Motion Picture – Drama, Musical or Comedy',\n",
              " 'Supporting Actor',\n",
              " 'Supporting Actress',\n",
              " 'Best Director',\n",
              " 'Best Screenplay',\n",
              " 'Best Original Score',\n",
              " 'Best Original Song',\n",
              " 'Best Foreign Language Film']"
            ]
          },
          "metadata": {},
          "execution_count": 7
        }
      ]
    },
    {
      "cell_type": "code",
      "source": [
        "winnerlist=[]\n",
        "listofwinners= table.find_all('b')\n",
        "for winner in listofwinners:\n",
        "  winnerlist.append(winner.text)\n",
        "winnerlist\n"
      ],
      "metadata": {
        "colab": {
          "base_uri": "https://localhost:8080/"
        },
        "id": "EOAMV8eB0hzU",
        "outputId": "df6a086f-6a7f-424f-c2a5-f07e8f764f89"
      },
      "execution_count": 8,
      "outputs": [
        {
          "output_type": "execute_result",
          "data": {
            "text/plain": [
              "['Brokeback Mountain',\n",
              " 'Walk the Line',\n",
              " 'Philip Seymour Hoffman – Capote as Truman Capote',\n",
              " 'Felicity Huffman – Transamerica as Sabrina \"Bree\" Osbourne',\n",
              " 'Joaquin Phoenix – Walk the Line as Johnny Cash',\n",
              " 'Reese Witherspoon – Walk the Line as June Carter Cash',\n",
              " 'George Clooney – Syriana as Bob Barnes',\n",
              " 'Rachel Weisz – The Constant Gardener as Tessa Quayle',\n",
              " 'Ang Lee – Brokeback Mountain',\n",
              " 'Larry McMurtry and Diana Ossana – Brokeback Mountain',\n",
              " 'John Williams – Memoirs of a Geisha',\n",
              " '\"A Love That Will Never Grow Old\" (Gustavo Santaolalla and Bernie Taupin) – Brokeback Mountain',\n",
              " 'Paradise Now (Palestine)']"
            ]
          },
          "metadata": {},
          "execution_count": 8
        }
      ]
    },
    {
      "cell_type": "code",
      "source": [
        "nominee=[]\n",
        "listofnominees= table.find_all('i')\n",
        "for nom in listofnominees:\n",
        "  nominee.append(nom.text)\n",
        "nominee"
      ],
      "metadata": {
        "colab": {
          "base_uri": "https://localhost:8080/"
        },
        "id": "aBWCF1UJYuvq",
        "outputId": "72e700ec-5869-444d-8a6a-da3cfac8ba6f"
      },
      "execution_count": 9,
      "outputs": [
        {
          "output_type": "execute_result",
          "data": {
            "text/plain": [
              "['Brokeback Mountain',\n",
              " 'The Constant Gardener',\n",
              " 'Good Night, and Good Luck',\n",
              " 'A History of Violence',\n",
              " 'Match Point',\n",
              " 'Walk the Line',\n",
              " 'Mrs Henderson Presents',\n",
              " 'Pride & Prejudice',\n",
              " 'The Producers',\n",
              " 'The Squid and the Whale',\n",
              " 'Capote',\n",
              " 'Cinderella Man',\n",
              " 'Hustle & Flow',\n",
              " 'Brokeback Mountain',\n",
              " 'Good Night, and Good Luck',\n",
              " 'Transamerica',\n",
              " 'A History of Violence',\n",
              " 'Proof',\n",
              " 'North Country',\n",
              " 'Memoirs of a Geisha',\n",
              " 'Walk the Line',\n",
              " 'The Matador',\n",
              " 'The Squid and the Whale',\n",
              " 'Charlie and the Chocolate Factory',\n",
              " 'The Producers',\n",
              " 'Breakfast on Pluto',\n",
              " 'Walk the Line',\n",
              " 'Mrs Henderson Presents',\n",
              " 'Pride & Prejudice',\n",
              " 'The Squid and the Whale',\n",
              " 'The Family Stone',\n",
              " 'Syriana',\n",
              " 'Crash',\n",
              " 'The Producers',\n",
              " 'Cinderella Man',\n",
              " 'Mrs Henderson Presents',\n",
              " 'The Constant Gardener',\n",
              " 'Match Point',\n",
              " 'In Her Shoes',\n",
              " 'North Country',\n",
              " 'Brokeback Mountain',\n",
              " 'Brokeback Mountain',\n",
              " 'Match Point',\n",
              " 'Good Night, and Good Luck',\n",
              " 'King Kong',\n",
              " 'The Constant Gardener',\n",
              " 'Munich',\n",
              " 'Brokeback Mountain',\n",
              " 'Match Point',\n",
              " 'Good Night, and Good Luck',\n",
              " 'Crash',\n",
              " 'Munich',\n",
              " 'Memoirs of a Geisha',\n",
              " 'Syriana',\n",
              " 'The Chronicles of Narnia: The Lion, the Witch and the Wardrobe',\n",
              " 'King Kong',\n",
              " 'Brokeback Mountain',\n",
              " 'Brokeback Mountain',\n",
              " 'Christmas in Love',\n",
              " 'The Producers',\n",
              " 'Transamerica',\n",
              " 'The Chronicles of Narnia: The Lion, the Witch and the Wardrobe',\n",
              " 'Paradise Now',\n",
              " 'Kung Fu Hustle',\n",
              " 'Merry Christmas (Joyeux Noël)',\n",
              " 'The Promise',\n",
              " 'Tsotsi']"
            ]
          },
          "metadata": {},
          "execution_count": 9
        }
      ]
    },
    {
      "cell_type": "code",
      "source": [],
      "metadata": {
        "id": "S81-ub9fYudc"
      },
      "execution_count": 9,
      "outputs": []
    },
    {
      "cell_type": "code",
      "source": [
        "#listofwinners= table.find_all('b')\n",
        "q=table.find_next('th')\n",
        "print(q.text)\n",
        "a=table.find_next('b')\n",
        "print(a)\n",
        "print(a.find_next('b'))\n",
        "print(a.find_next('th'))"
      ],
      "metadata": {
        "colab": {
          "base_uri": "https://localhost:8080/"
        },
        "id": "o3cV0VyP8vNK",
        "outputId": "8d79e4cf-e8b4-4713-ce20-9ceb37f4de11"
      },
      "execution_count": 10,
      "outputs": [
        {
          "output_type": "stream",
          "name": "stdout",
          "text": [
            "Best Motion Picture\n",
            "\n",
            "<b><a href=\"/wiki/Brokeback_Mountain\" title=\"Brokeback Mountain\">Brokeback Mountain</a></b>\n",
            "<b><a href=\"/wiki/Walk_the_Line\" title=\"Walk the Line\">Walk the Line</a></b>\n",
            "<th colspan=\"2\">Best Performance in a Motion Picture – Drama\n",
            "</th>\n"
          ]
        }
      ]
    },
    {
      "cell_type": "code",
      "source": [
        "c=[]\n",
        "b=table.find_next('a')\n",
        "for i in list(range(1,100)):\n",
        "  #print(b.find_next('a'))\n",
        "  b=b.find_next('a')\n",
        "  x=b.text\n",
        "  print(x)"
      ],
      "metadata": {
        "colab": {
          "base_uri": "https://localhost:8080/"
        },
        "id": "kSs6mbSmC0ei",
        "outputId": "22791ccf-7116-4250-d9d8-b4ecf443f1c0"
      },
      "execution_count": 11,
      "outputs": [
        {
          "output_type": "stream",
          "name": "stdout",
          "text": [
            "Musical or Comedy\n",
            "Brokeback Mountain\n",
            "The Constant Gardener\n",
            "Good Night, and Good Luck\n",
            "A History of Violence\n",
            "Match Point\n",
            "Walk the Line\n",
            "Mrs Henderson Presents\n",
            "Pride & Prejudice\n",
            "The Producers\n",
            "The Squid and the Whale\n",
            "Actor\n",
            "Actress\n",
            "Philip Seymour Hoffman\n",
            "Capote\n",
            "Truman Capote\n",
            "Russell Crowe\n",
            "Cinderella Man\n",
            "James J. Braddock\n",
            "Terrence Howard\n",
            "Hustle & Flow\n",
            "Heath Ledger\n",
            "Brokeback Mountain\n",
            "Ennis Del Mar\n",
            "David Strathairn\n",
            "Good Night, and Good Luck\n",
            "Edward R. Murrow\n",
            "Felicity Huffman\n",
            "Transamerica\n",
            "Maria Bello\n",
            "A History of Violence\n",
            "Gwyneth Paltrow\n",
            "Proof\n",
            "Charlize Theron\n",
            "North Country\n",
            "Ziyi Zhang\n",
            "Memoirs of a Geisha\n",
            "Actor\n",
            "Actress\n",
            "Joaquin Phoenix\n",
            "Walk the Line\n",
            "Johnny Cash\n",
            "Pierce Brosnan\n",
            "The Matador\n",
            "Jeff Daniels\n",
            "The Squid and the Whale\n",
            "Johnny Depp\n",
            "Charlie and the Chocolate Factory\n",
            "Willy Wonka\n",
            "Nathan Lane\n",
            "The Producers\n",
            "Max Bialystock\n",
            "Cillian Murphy\n",
            "Breakfast on Pluto\n",
            "Reese Witherspoon\n",
            "Walk the Line\n",
            "June Carter Cash\n",
            "Judi Dench\n",
            "Mrs Henderson Presents\n",
            "Laura Henderson\n",
            "Keira Knightley\n",
            "Pride & Prejudice\n",
            "Elizabeth Bennet\n",
            "Laura Linney\n",
            "The Squid and the Whale\n",
            "Sarah Jessica Parker\n",
            "The Family Stone\n",
            "Supporting Actor\n",
            "Supporting Actress\n",
            "George Clooney\n",
            "Syriana\n",
            "Matt Dillon\n",
            "Crash\n",
            "Will Ferrell\n",
            "The Producers\n",
            "Franz Liebkind\n",
            "Paul Giamatti\n",
            "Cinderella Man\n",
            "Joe Gould\n",
            "Bob Hoskins\n",
            "Mrs Henderson Presents\n",
            "Vivian Van Damm\n",
            "Rachel Weisz\n",
            "The Constant Gardener\n",
            "Scarlett Johansson\n",
            "Match Point\n",
            "Shirley MacLaine\n",
            "In Her Shoes\n",
            "Frances McDormand\n",
            "North Country\n",
            "Michelle Williams\n",
            "Brokeback Mountain\n",
            "Best Director\n",
            "Best Screenplay\n",
            "Ang Lee\n",
            "Brokeback Mountain\n",
            "Woody Allen\n",
            "Match Point\n",
            "George Clooney\n"
          ]
        }
      ]
    },
    {
      "cell_type": "code",
      "source": [],
      "metadata": {
        "id": "IKrv8vqYMsX2"
      },
      "execution_count": 11,
      "outputs": []
    }
  ]
}